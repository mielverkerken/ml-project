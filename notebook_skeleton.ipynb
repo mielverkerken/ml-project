{
  "nbformat": 4,
  "nbformat_minor": 0,
  "metadata": {
    "colab": {
      "name": "notebook skeleton.ipynb",
      "provenance": []
    },
    "kernelspec": {
      "name": "python3",
      "display_name": "Python 3"
    }
  },
  "cells": [
    {
      "cell_type": "code",
      "metadata": {
        "id": "G5_XANW7o0zj",
        "colab_type": "code",
        "colab": {
          "base_uri": "https://localhost:8080/",
          "height": 210
        },
        "outputId": "ec046208-4a58-4e55-96dc-029fe428921e"
      },
      "source": [
        "# Clone the entire repo.\n",
        "!rm -rf ml-project\n",
        "!git clone -l -s git://github.com/mielverkerken/ml-project.git\n",
        "%cd ml-project\n",
        "!ls"
      ],
      "execution_count": 1,
      "outputs": [
        {
          "output_type": "stream",
          "text": [
            "Cloning into 'ml-project'...\n",
            "warning: --local is ignored\n",
            "remote: Enumerating objects: 35, done.\u001b[K\n",
            "remote: Counting objects:   2% (1/35)\u001b[K\rremote: Counting objects:   5% (2/35)\u001b[K\rremote: Counting objects:   8% (3/35)\u001b[K\rremote: Counting objects:  11% (4/35)\u001b[K\rremote: Counting objects:  14% (5/35)\u001b[K\rremote: Counting objects:  17% (6/35)\u001b[K\rremote: Counting objects:  20% (7/35)\u001b[K\rremote: Counting objects:  22% (8/35)\u001b[K\rremote: Counting objects:  25% (9/35)\u001b[K\rremote: Counting objects:  28% (10/35)\u001b[K\rremote: Counting objects:  31% (11/35)\u001b[K\rremote: Counting objects:  34% (12/35)\u001b[K\rremote: Counting objects:  37% (13/35)\u001b[K\rremote: Counting objects:  40% (14/35)\u001b[K\rremote: Counting objects:  42% (15/35)\u001b[K\rremote: Counting objects:  45% (16/35)\u001b[K\rremote: Counting objects:  48% (17/35)\u001b[K\rremote: Counting objects:  51% (18/35)\u001b[K\rremote: Counting objects:  54% (19/35)\u001b[K\rremote: Counting objects:  57% (20/35)\u001b[K\rremote: Counting objects:  60% (21/35)\u001b[K\rremote: Counting objects:  62% (22/35)\u001b[K\rremote: Counting objects:  65% (23/35)\u001b[K\rremote: Counting objects:  68% (24/35)\u001b[K\rremote: Counting objects:  71% (25/35)\u001b[K\rremote: Counting objects:  74% (26/35)\u001b[K\rremote: Counting objects:  77% (27/35)\u001b[K\rremote: Counting objects:  80% (28/35)\u001b[K\rremote: Counting objects:  82% (29/35)\u001b[K\rremote: Counting objects:  85% (30/35)\u001b[K\rremote: Counting objects:  88% (31/35)\u001b[K\rremote: Counting objects:  91% (32/35)\u001b[K\rremote: Counting objects:  94% (33/35)\u001b[K\rremote: Counting objects:  97% (34/35)\u001b[K\rremote: Counting objects: 100% (35/35)\u001b[K\rremote: Counting objects: 100% (35/35), done.\u001b[K\n",
            "remote: Compressing objects: 100% (23/23), done.\u001b[K\n",
            "remote: Total 4773 (delta 18), reused 27 (delta 11), pack-reused 4738\u001b[K\n",
            "Receiving objects: 100% (4773/4773), 104.58 MiB | 28.20 MiB/s, done.\n",
            "Resolving deltas: 100% (39/39), done.\n",
            "Checking out files: 100% (4733/4733), done.\n",
            "/content/ml-project\n",
            "data  libraries  README.md  util\n"
          ],
          "name": "stdout"
        }
      ]
    },
    {
      "cell_type": "code",
      "metadata": {
        "id": "zz1zjHEgoS2a",
        "colab_type": "code",
        "colab": {
          "base_uri": "https://localhost:8080/",
          "height": 34
        },
        "outputId": "3fec8f33-9836-401a-977a-76cef3a52ea6"
      },
      "source": [
        "import pandas as pd\n",
        "import numpy as np\n",
        "import matplotlib.pyplot as plt\n",
        "from matplotlib import animation, rc\n",
        "from IPython.display import HTML\n",
        "\n",
        "%matplotlib inline\n",
        "\n",
        "from sklearn import preprocessing\n",
        "from sklearn.linear_model import LogisticRegression\n",
        "from sklearn.metrics import f1_score\n",
        "\n",
        "import util.load as l\n",
        "import util.submission as S\n",
        "import util.vis as V\n",
        "import util.metrics as M\n",
        "\n",
        "from util.constants import * \n",
        "from util.visanim import animate_sample\n",
        "\n",
        "from libraries.base import *\n",
        "from libraries.feature_extraction import *\n",
        "from libraries.augmentation import *\n",
        "\n",
        "all_samples, all_labels, all_persons, label_to_gloss = l.load_data()\n",
        "\n",
        "#animate_sample(all_samples[0])"
      ],
      "execution_count": 3,
      "outputs": [
        {
          "output_type": "stream",
          "text": [
            "3718 samples and labels loaded\n"
          ],
          "name": "stdout"
        }
      ]
    }
  ]
}